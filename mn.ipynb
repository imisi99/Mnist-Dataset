{
 "cells": [
  {
   "metadata": {},
   "cell_type": "code",
   "outputs": [],
   "execution_count": null,
   "source": [
    "from utils import *\n",
    "from sklearn.model_selection import train_test_split\n",
    "import matplotlib.pyplot as plt\n",
    "import tensorflow as tf\n",
    "from sklearn.metrics import accuracy_score\n",
    "from tensorflow.keras.optimizers import Adam\n",
    "from tensorflow.keras.losses import CategoricalCrossentropy\n",
    "\n",
    "plt.style.use('deeplearning.mplstyle')\n"
   ],
   "id": "724757390bc71300"
  },
  {
   "metadata": {},
   "cell_type": "code",
   "outputs": [],
   "execution_count": null,
   "source": [
    "data = load_mnist_data('./data/train-images.idx3-ubyte', './data/train-labels.idx1-ubyte')\n",
    "# Splitting the data into features and labels\n",
    "x = data.iloc[:, :-10].values\n",
    "y = data.iloc[:, -10:].values\n",
    "X_train, X_test, y_train, y_test = train_test_split(x, y, test_size=0.2, random_state=42)\n",
    "\n",
    "\n",
    "print(f'X_train shape: {X_train.shape}')\n",
    "print(f'X_test shape: {X_test.shape}')\n",
    "print(f'y_train shape: {y_train.shape}')\n",
    "print(f'y_test shape: {y_test.shape}')"
   ],
   "id": "48daf8209400e981"
  },
  {
   "metadata": {},
   "cell_type": "code",
   "outputs": [],
   "execution_count": null,
   "source": [
    "# Visualizing the data\n",
    "plt.imshow(x[5999].reshape(28, 28), cmap='gray')\n",
    "plt.title(f'Digit: {np.argmax(y[5999])}')\n",
    "plt.colorbar()\n",
    "plt.show()"
   ],
   "id": "583c1dd4c6be86e8"
  },
  {
   "metadata": {},
   "cell_type": "code",
   "outputs": [],
   "execution_count": null,
   "source": [
    "models = build_cnn()\n",
    "\n",
    "nn_accuracy_scores = np.zeros((3, 2))\n",
    "i = 0\n",
    "threshold = 0.7\n",
    "for model in models:\n",
    "    model.compile(optimizer=Adam(learning_rate=0.001),\n",
    "                  loss=CategoricalCrossentropy(from_logits=True))\n",
    "    print(f'Training {model.name}')\n",
    "\n",
    "    model.fit(X_train, y_train, epochs=150, verbose=0)\n",
    "\n",
    "    print(f'{model.name} Trained')\n",
    "\n",
    "    yhat = model.predict(X_train)\n",
    "    yhat = tf.math.sigmoid(yhat)\n",
    "    yhat = np.argmax(yhat)\n",
    "    y_final = np.argmax(y_train)\n",
    "    nn_accuracy_scores[i, 0] = accuracy_score(y_final, yhat)\n",
    "\n",
    "    yhat_cv = model.predict(X_test)\n",
    "    yhat_cv = tf.math.sigmoid(yhat_cv)\n",
    "    yhat_cv = np.argmax(yhat_cv)\n",
    "    y_final_cv = np.argmax(y_test)\n",
    "    nn_accuracy_scores[i, 1] = accuracy_score(y_final_cv, yhat_cv)\n",
    "\n",
    "    i += 1\n",
    "\n",
    "for j in range(3):\n",
    "    print(f'The Accuracy for {models[j].name}: {nn_accuracy_scores[j]}')"
   ],
   "id": "3cafba07855b6391"
  }
 ],
 "metadata": {},
 "nbformat": 5,
 "nbformat_minor": 9
}
