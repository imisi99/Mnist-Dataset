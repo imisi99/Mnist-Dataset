{
 "cells": [
  {
   "metadata": {
    "ExecuteTime": {
     "end_time": "2024-11-20T12:18:37.686069Z",
     "start_time": "2024-11-20T12:18:26.663497Z"
    }
   },
   "cell_type": "code",
   "source": [
    "from utils import *\n",
    "from sklearn.model_selection import train_test_split\n",
    "import matplotlib.pyplot as plt\n",
    "import tensorflow as tf\n",
    "from sklearn.metrics import accuracy_score\n",
    "from tensorflow.keras.optimizers import Adam\n",
    "from tensorflow.keras.losses import CategoricalCrossentropy\n",
    "\n",
    "plt.style.use('deeplearning.mplstyle')\n"
   ],
   "id": "724757390bc71300",
   "outputs": [],
   "execution_count": 1
  },
  {
   "metadata": {
    "ExecuteTime": {
     "end_time": "2024-11-20T12:18:42.260664Z",
     "start_time": "2024-11-20T12:18:37.711217Z"
    }
   },
   "cell_type": "code",
   "source": [
    "data = load_mnist_data('./data/train-images.idx3-ubyte', './data/train-labels.idx1-ubyte')\n",
    "# Splitting the data into features and labels\n",
    "x = data.iloc[:, :-10].values\n",
    "x = x.reshape(-1, 28, 28, 1)\n",
    "y = data.iloc[:, -10:].values\n",
    "X_train, X_test, y_train, y_test = train_test_split(x, y, test_size=0.2, random_state=42)\n",
    "\n",
    "\n",
    "print(f'X_train shape: {X_train.shape}')\n",
    "print(f'X_test shape: {X_test.shape}')\n",
    "print(f'y_train shape: {y_train.shape}')\n",
    "print(f'y_test shape: {y_test.shape}')\n",
    "print(y_train[90])"
   ],
   "id": "48daf8209400e981",
   "outputs": [
    {
     "name": "stdout",
     "output_type": "stream",
     "text": [
      "Data after loading:\n",
      "   0  1  2  3  4  5  6  7  8  9  ...  775  776  777  778  779  780  781  782  \\\n",
      "0  0  0  0  0  0  0  0  0  0  0  ...    0    0    0    0    0    0    0    0   \n",
      "1  0  0  0  0  0  0  0  0  0  0  ...    0    0    0    0    0    0    0    0   \n",
      "2  0  0  0  0  0  0  0  0  0  0  ...    0    0    0    0    0    0    0    0   \n",
      "3  0  0  0  0  0  0  0  0  0  0  ...    0    0    0    0    0    0    0    0   \n",
      "4  0  0  0  0  0  0  0  0  0  0  ...    0    0    0    0    0    0    0    0   \n",
      "\n",
      "   783  label  \n",
      "0    0      5  \n",
      "1    0      0  \n",
      "2    0      4  \n",
      "3    0      1  \n",
      "4    0      9  \n",
      "\n",
      "[5 rows x 785 columns]\n",
      "Data after normalization:\n",
      "     0    1    2    3    4    5    6    7    8    9  ...  digit_0  digit_1  \\\n",
      "0  0.0  0.0  0.0  0.0  0.0  0.0  0.0  0.0  0.0  0.0  ...        0        0   \n",
      "1  0.0  0.0  0.0  0.0  0.0  0.0  0.0  0.0  0.0  0.0  ...        1        0   \n",
      "2  0.0  0.0  0.0  0.0  0.0  0.0  0.0  0.0  0.0  0.0  ...        0        0   \n",
      "3  0.0  0.0  0.0  0.0  0.0  0.0  0.0  0.0  0.0  0.0  ...        0        1   \n",
      "4  0.0  0.0  0.0  0.0  0.0  0.0  0.0  0.0  0.0  0.0  ...        0        0   \n",
      "\n",
      "   digit_2  digit_3  digit_4  digit_5  digit_6  digit_7  digit_8  digit_9  \n",
      "0        0        0        0        1        0        0        0        0  \n",
      "1        0        0        0        0        0        0        0        0  \n",
      "2        0        0        1        0        0        0        0        0  \n",
      "3        0        0        0        0        0        0        0        0  \n",
      "4        0        0        0        0        0        0        0        1  \n",
      "\n",
      "[5 rows x 794 columns]\n",
      "X_train shape: (48000, 28, 28, 1)\n",
      "X_test shape: (12000, 28, 28, 1)\n",
      "y_train shape: (48000, 10)\n",
      "y_test shape: (12000, 10)\n",
      "[0 0 0 0 0 1 0 0 0 0]\n"
     ]
    }
   ],
   "execution_count": 2
  },
  {
   "metadata": {
    "ExecuteTime": {
     "end_time": "2024-11-20T12:18:43.404367Z",
     "start_time": "2024-11-20T12:18:43.120877Z"
    }
   },
   "cell_type": "code",
   "source": [
    "# Visualizing the data\n",
    "plt.imshow(x[90].reshape(28, 28), cmap='gray')\n",
    "plt.title(f'Digit: {np.argmax(y[90])}')\n",
    "plt.colorbar()\n",
    "plt.show()"
   ],
   "id": "583c1dd4c6be86e8",
   "outputs": [
    {
     "data": {
      "text/plain": [
       "<Figure size 1200x800 with 2 Axes>"
      ],
      "image/png": "[encoded data removed]"
     },
     "metadata": {},
     "output_type": "display_data"
    }
   ],
   "execution_count": 3
  },
  {
   "metadata": {
    "jupyter": {
     "is_executing": true
    },
    "ExecuteTime": {
     "end_time": "2024-11-20T14:21:08.432092100Z",
     "start_time": "2024-11-20T12:18:43.442879Z"
    }
   },
   "cell_type": "code",
   "source": [
    "models = build_cnn()\n",
    "\n",
    "nn_accuracy_scores = np.zeros((3, 2))\n",
    "i = 0\n",
    "threshold = 0.7\n",
    "for model in models:\n",
    "    model.compile(optimizer=Adam(learning_rate=0.001),\n",
    "                  loss=CategoricalCrossentropy(from_logits=True))\n",
    "    print(f'Training {model.name}')\n",
    "\n",
    "    model.fit(X_train, y_train, epochs=150, verbose=0)\n",
    "\n",
    "    print(f'{model.name} Trained')\n",
    "\n",
    "    yhat = model.predict(X_train)\n",
    "    yhat = tf.math.sigmoid(yhat)\n",
    "    yhat = np.argmax(yhat)\n",
    "    y_final = np.argmax(y_train)\n",
    "    nn_accuracy_scores[i, 0] = accuracy_score(y_final, yhat)\n",
    "\n",
    "    yhat_cv = model.predict(X_test)\n",
    "    yhat_cv = tf.math.sigmoid(yhat_cv)\n",
    "    yhat_cv = np.argmax(yhat_cv)\n",
    "    y_final_cv = np.argmax(y_test)\n",
    "    nn_accuracy_scores[i, 1] = accuracy_score(y_final_cv, yhat_cv)\n",
    "\n",
    "    i += 1\n",
    "\n",
    "for j in range(3):\n",
    "    print(f'The Accuracy for {models[j].name}: {nn_accuracy_scores[j]}')"
   ],
   "id": "3cafba07855b6391",
   "outputs": [
    {
     "name": "stdout",
     "output_type": "stream",
     "text": [
      "Training CNN1\n"
     ]
    }
   ],
   "execution_count": null
  },
  {
   "metadata": {},
   "cell_type": "code",
   "outputs": [],
   "execution_count": null,
   "source": "",
   "id": "c5f657419c7c8b72"
  }
 ],
 "metadata": {
  "kernelspec": {
   "name": "python3",
   "language": "python",
   "display_name": "Python 3 (ipykernel)"
  }
 },
 "nbformat": 5,
 "nbformat_minor": 9
}
