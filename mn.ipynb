{
 "cells": [
  {
   "metadata": {
    "ExecuteTime": {
     "end_time": "2025-01-21T20:59:36.830306Z",
     "start_time": "2025-01-21T20:59:28.587966Z"
    }
   },
   "cell_type": "code",
   "source": [
    "from utils import *\n",
    "from sklearn.model_selection import train_test_split\n",
    "import matplotlib.pyplot as plt\n",
    "import tensorflow as tf\n",
    "from sklearn.metrics import accuracy_score\n",
    "from tensorflow.keras.optimizers import Adam\n",
    "from tensorflow.keras.losses import CategoricalCrossentropy\n",
    "\n",
    "warnings.filterwarnings(\"ignore\")\n",
    "plt.style.use('deeplearning.mplstyle')\n"
   ],
   "id": "724757390bc71300",
   "outputs": [],
   "execution_count": 1
  },
  {
   "metadata": {
    "ExecuteTime": {
     "end_time": "2025-01-21T20:59:47.518842Z",
     "start_time": "2025-01-21T20:59:40.875285Z"
    }
   },
   "cell_type": "code",
   "source": [
    "data = load_mnist_data('./data/train-images.idx3-ubyte', './data/train-labels.idx1-ubyte')\n",
    "# Splitting the data into features and labels\n",
    "x = data.iloc[:, :-10].values\n",
    "x = x.reshape(-1, 28, 28, 1)\n",
    "y = data.iloc[:, -10:].values\n",
    "X_train, X_test, y_train, y_test = train_test_split(x, y, test_size=0.2, random_state=42)\n",
    "\n",
    "\n",
    "print(f'X_train shape: {X_train.shape}')\n",
    "print(f'X_cv shape: {X_test.shape}')\n",
    "print(f'y_train shape: {y_train.shape}')\n",
    "print(f'y_cv shape: {y_test.shape}')"
   ],
   "id": "48daf8209400e981",
   "outputs": [
    {
     "name": "stdout",
     "output_type": "stream",
     "text": [
      "Data after normalization:\n",
      "     0    1    2    3    4    5    6    7    8    9  ...  digit_0  digit_1  \\\n",
      "0  0.0  0.0  0.0  0.0  0.0  0.0  0.0  0.0  0.0  0.0  ...        0        0   \n",
      "1  0.0  0.0  0.0  0.0  0.0  0.0  0.0  0.0  0.0  0.0  ...        1        0   \n",
      "2  0.0  0.0  0.0  0.0  0.0  0.0  0.0  0.0  0.0  0.0  ...        0        0   \n",
      "3  0.0  0.0  0.0  0.0  0.0  0.0  0.0  0.0  0.0  0.0  ...        0        1   \n",
      "4  0.0  0.0  0.0  0.0  0.0  0.0  0.0  0.0  0.0  0.0  ...        0        0   \n",
      "\n",
      "   digit_2  digit_3  digit_4  digit_5  digit_6  digit_7  digit_8  digit_9  \n",
      "0        0        0        0        1        0        0        0        0  \n",
      "1        0        0        0        0        0        0        0        0  \n",
      "2        0        0        1        0        0        0        0        0  \n",
      "3        0        0        0        0        0        0        0        0  \n",
      "4        0        0        0        0        0        0        0        1  \n",
      "\n",
      "[5 rows x 794 columns]\n",
      "X_train shape: (48000, 28, 28, 1)\n",
      "X_cv shape: (12000, 28, 28, 1)\n",
      "y_train shape: (48000, 10)\n",
      "y_cv shape: (12000, 10)\n"
     ]
    }
   ],
   "execution_count": 2
  },
  {
   "metadata": {
    "ExecuteTime": {
     "end_time": "2025-01-21T20:59:49.346367Z",
     "start_time": "2025-01-21T20:59:48.873259Z"
    }
   },
   "cell_type": "code",
   "source": [
    "# Visualizing the data\n",
    "plt.imshow(x[9999].reshape(28, 28), cmap='gray')\n",
    "plt.title(f'Digit: {np.argmax(y[9999])}')\n",
    "plt.colorbar()\n",
    "plt.show()"
   ],
   "id": "583c1dd4c6be86e8",
   "outputs": [
    {
     "data": {
      "text/plain": [
       "<Figure size 1200x800 with 2 Axes>"
      ],
      "image/png": "[encoded data removed]"
     },
     "metadata": {},
     "output_type": "display_data"
    }
   ],
   "execution_count": 3
  },
  {
   "metadata": {
    "ExecuteTime": {
     "end_time": "2025-01-21T21:45:22.342392Z",
     "start_time": "2025-01-21T20:59:49.420761Z"
    }
   },
   "cell_type": "code",
   "source": [
    "models = build_cnn()\n",
    "\n",
    "nn_accuracy_scores = np.zeros((3, 2))\n",
    "i = 0\n",
    "threshold = 0.7\n",
    "for model in models:\n",
    "    model.compile(optimizer=Adam(learning_rate=0.001),\n",
    "                  loss=CategoricalCrossentropy(from_logits=True))\n",
    "    print(f'Training {model.name}')\n",
    "\n",
    "    model.fit(X_train, y_train, epochs=5, verbose=1)\n",
    "\n",
    "    print(f'{model.name} Trained')\n",
    "\n",
    "    yhat = model.predict(X_train)\n",
    "    yhat = tf.nn.softmax(yhat).numpy()\n",
    "    yhat = np.argmax(yhat, axis=1)\n",
    "    y_final = np.argmax(y_train, axis=1)\n",
    "    print(y_final[9900])\n",
    "    print(yhat[9900])\n",
    "    nn_accuracy_scores[i, 0] = accuracy_score(y_final, yhat)\n",
    "\n",
    "    yhat_cv = model.predict(X_test)\n",
    "    yhat_cv = tf.nn.softmax(yhat_cv).numpy()\n",
    "    yhat_cv = np.argmax(yhat_cv, axis=1)\n",
    "    y_final_cv = np.argmax(y_test, axis=1)\n",
    "    nn_accuracy_scores[i, 1] = accuracy_score(y_final_cv, yhat_cv)\n",
    "\n",
    "    i += 1\n",
    "\n",
    "for j in range(3):\n",
    "    models[j].save(f'model{j}.h5')\n",
    "    print(f'The Accuracy for {models[j].name}: {nn_accuracy_scores[j]}')"
   ],
   "id": "3cafba07855b6391",
   "outputs": [
    {
     "name": "stdout",
     "output_type": "stream",
     "text": [
      "Training CNN1\n",
      "Epoch 1/5\n",
      "\u001B[1m1500/1500\u001B[0m \u001B[32m━━━━━━━━━━━━━━━━━━━━\u001B[0m\u001B[37m\u001B[0m \u001B[1m115s\u001B[0m 75ms/step - loss: 0.2413\n",
      "Epoch 2/5\n",
      "\u001B[1m1500/1500\u001B[0m \u001B[32m━━━━━━━━━━━━━━━━━━━━\u001B[0m\u001B[37m\u001B[0m \u001B[1m116s\u001B[0m 77ms/step - loss: 0.0373\n",
      "Epoch 3/5\n",
      "\u001B[1m1500/1500\u001B[0m \u001B[32m━━━━━━━━━━━━━━━━━━━━\u001B[0m\u001B[37m\u001B[0m \u001B[1m112s\u001B[0m 74ms/step - loss: 0.0195\n",
      "Epoch 4/5\n",
      "\u001B[1m1500/1500\u001B[0m \u001B[32m━━━━━━━━━━━━━━━━━━━━\u001B[0m\u001B[37m\u001B[0m \u001B[1m96s\u001B[0m 64ms/step - loss: 0.0148\n",
      "Epoch 5/5\n",
      "\u001B[1m1500/1500\u001B[0m \u001B[32m━━━━━━━━━━━━━━━━━━━━\u001B[0m\u001B[37m\u001B[0m \u001B[1m92s\u001B[0m 61ms/step - loss: 0.0111\n",
      "CNN1 Trained\n",
      "\u001B[1m1500/1500\u001B[0m \u001B[32m━━━━━━━━━━━━━━━━━━━━\u001B[0m\u001B[37m\u001B[0m \u001B[1m19s\u001B[0m 12ms/step\n",
      "7\n",
      "7\n",
      "\u001B[1m375/375\u001B[0m \u001B[32m━━━━━━━━━━━━━━━━━━━━\u001B[0m\u001B[37m\u001B[0m \u001B[1m4s\u001B[0m 11ms/step\n",
      "Training CNN2\n",
      "Epoch 1/5\n",
      "\u001B[1m1500/1500\u001B[0m \u001B[32m━━━━━━━━━━━━━━━━━━━━\u001B[0m\u001B[37m\u001B[0m \u001B[1m276s\u001B[0m 183ms/step - loss: 0.2931\n",
      "Epoch 2/5\n",
      "\u001B[1m1500/1500\u001B[0m \u001B[32m━━━━━━━━━━━━━━━━━━━━\u001B[0m\u001B[37m\u001B[0m \u001B[1m146s\u001B[0m 97ms/step - loss: 0.0416\n",
      "Epoch 3/5\n",
      "\u001B[1m1500/1500\u001B[0m \u001B[32m━━━━━━━━━━━━━━━━━━━━\u001B[0m\u001B[37m\u001B[0m \u001B[1m145s\u001B[0m 96ms/step - loss: 0.0270\n",
      "Epoch 4/5\n",
      "\u001B[1m1500/1500\u001B[0m \u001B[32m━━━━━━━━━━━━━━━━━━━━\u001B[0m\u001B[37m\u001B[0m \u001B[1m186s\u001B[0m 124ms/step - loss: 0.0199\n",
      "Epoch 5/5\n",
      "\u001B[1m1500/1500\u001B[0m \u001B[32m━━━━━━━━━━━━━━━━━━━━\u001B[0m\u001B[37m\u001B[0m \u001B[1m143s\u001B[0m 95ms/step - loss: 0.0153\n",
      "CNN2 Trained\n",
      "\u001B[1m1500/1500\u001B[0m \u001B[32m━━━━━━━━━━━━━━━━━━━━\u001B[0m\u001B[37m\u001B[0m \u001B[1m46s\u001B[0m 31ms/step\n",
      "7\n",
      "7\n",
      "\u001B[1m375/375\u001B[0m \u001B[32m━━━━━━━━━━━━━━━━━━━━\u001B[0m\u001B[37m\u001B[0m \u001B[1m12s\u001B[0m 31ms/step\n",
      "Training CNN3\n",
      "Epoch 1/5\n",
      "\u001B[1m1500/1500\u001B[0m \u001B[32m━━━━━━━━━━━━━━━━━━━━\u001B[0m\u001B[37m\u001B[0m \u001B[1m226s\u001B[0m 150ms/step - loss: 0.2942\n",
      "Epoch 2/5\n",
      "\u001B[1m1500/1500\u001B[0m \u001B[32m━━━━━━━━━━━━━━━━━━━━\u001B[0m\u001B[37m\u001B[0m \u001B[1m229s\u001B[0m 152ms/step - loss: 0.0496\n",
      "Epoch 3/5\n",
      "\u001B[1m1500/1500\u001B[0m \u001B[32m━━━━━━━━━━━━━━━━━━━━\u001B[0m\u001B[37m\u001B[0m \u001B[1m224s\u001B[0m 149ms/step - loss: 0.0354\n",
      "Epoch 4/5\n",
      "\u001B[1m1500/1500\u001B[0m \u001B[32m━━━━━━━━━━━━━━━━━━━━\u001B[0m\u001B[37m\u001B[0m \u001B[1m230s\u001B[0m 154ms/step - loss: 0.0291\n",
      "Epoch 5/5\n",
      "\u001B[1m1500/1500\u001B[0m \u001B[32m━━━━━━━━━━━━━━━━━━━━\u001B[0m\u001B[37m\u001B[0m \u001B[1m225s\u001B[0m 150ms/step - loss: 0.0200\n",
      "CNN3 Trained\n",
      "\u001B[1m1500/1500\u001B[0m \u001B[32m━━━━━━━━━━━━━━━━━━━━\u001B[0m\u001B[37m\u001B[0m \u001B[1m71s\u001B[0m 48ms/step\n",
      "7\n",
      "7\n",
      "\u001B[1m375/375\u001B[0m \u001B[32m━━━━━━━━━━━━━━━━━━━━\u001B[0m\u001B[37m\u001B[0m \u001B[1m18s\u001B[0m 47ms/step\n"
     ]
    },
    {
     "name": "stderr",
     "output_type": "stream",
     "text": [
      "WARNING:absl:You are saving your model as an HDF5 file via `model.save()` or `keras.saving.save_model(model)`. This file format is considered legacy. We recommend using instead the native Keras format, e.g. `model.save('my_model.keras')` or `keras.saving.save_model(model, 'my_model.keras')`. \n",
      "WARNING:absl:You are saving your model as an HDF5 file via `model.save()` or `keras.saving.save_model(model)`. This file format is considered legacy. We recommend using instead the native Keras format, e.g. `model.save('my_model.keras')` or `keras.saving.save_model(model, 'my_model.keras')`. \n"
     ]
    },
    {
     "name": "stdout",
     "output_type": "stream",
     "text": [
      "The Accuracy for CNN1: [0.99683333 0.988     ]\n"
     ]
    },
    {
     "name": "stderr",
     "output_type": "stream",
     "text": [
      "WARNING:absl:You are saving your model as an HDF5 file via `model.save()` or `keras.saving.save_model(model)`. This file format is considered legacy. We recommend using instead the native Keras format, e.g. `model.save('my_model.keras')` or `keras.saving.save_model(model, 'my_model.keras')`. \n"
     ]
    },
    {
     "name": "stdout",
     "output_type": "stream",
     "text": [
      "The Accuracy for CNN2: [0.9936875  0.98733333]\n",
      "The Accuracy for CNN3: [0.99408333 0.98691667]\n"
     ]
    }
   ],
   "execution_count": 4
  }
 ],
 "metadata": {
  "kernelspec": {
   "name": "python3",
   "language": "python",
   "display_name": "Python 3 (ipykernel)"
  }
 },
 "nbformat": 5,
 "nbformat_minor": 9
}
